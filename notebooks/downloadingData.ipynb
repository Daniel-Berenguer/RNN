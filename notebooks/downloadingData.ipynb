{
 "cells": [
  {
   "cell_type": "code",
   "execution_count": 1,
   "id": "25be7185",
   "metadata": {},
   "outputs": [],
   "source": [
    "import yfinance as yf"
   ]
  },
  {
   "cell_type": "code",
   "execution_count": 14,
   "id": "98cd6913",
   "metadata": {},
   "outputs": [],
   "source": [
    "sp500 = yf.Ticker(\"^GSPC\")\n",
    "sp500_history = sp500.history(period=\"max\",actions=False, start=\"1950-01-01\")"
   ]
  },
  {
   "cell_type": "code",
   "execution_count": 13,
   "id": "b6716a19",
   "metadata": {},
   "outputs": [
    {
     "data": {
      "text/plain": [
       "Open           16.66\n",
       "High           16.66\n",
       "Low            16.66\n",
       "Close          16.66\n",
       "Volume    1260000.00\n",
       "Name: 1950-01-03 00:00:00-05:00, dtype: float64"
      ]
     },
     "execution_count": 13,
     "metadata": {},
     "output_type": "execute_result"
    }
   ],
   "source": [
    "first_row = sp500_history[sp500_history[\"Volume\"] != 0].iloc[0] # Firs row with non-zero volume\n",
    "first_row"
   ]
  },
  {
   "cell_type": "code",
   "execution_count": 17,
   "id": "e5597d53",
   "metadata": {},
   "outputs": [
    {
     "data": {
      "text/plain": [
       "Open      0\n",
       "High      0\n",
       "Low       0\n",
       "Close     0\n",
       "Volume    0\n",
       "dtype: int64"
      ]
     },
     "execution_count": 17,
     "metadata": {},
     "output_type": "execute_result"
    }
   ],
   "source": [
    "# get nans\n",
    "nans = sp500_history.isna().sum()\n",
    "nans"
   ]
  },
  {
   "cell_type": "code",
   "execution_count": 19,
   "id": "a008ce57",
   "metadata": {},
   "outputs": [],
   "source": [
    "import numpy as np\n",
    "# Convert data to numpy array\n",
    "sp500_data = sp500_history.to_numpy()"
   ]
  },
  {
   "cell_type": "code",
   "execution_count": null,
   "id": "6c5dea79",
   "metadata": {},
   "outputs": [
    {
     "data": {
      "text/plain": [
       "(19005, 5)"
      ]
     },
     "execution_count": 24,
     "metadata": {},
     "output_type": "execute_result"
    }
   ],
   "source": []
  },
  {
   "cell_type": "code",
   "execution_count": 56,
   "id": "bcb41af5",
   "metadata": {},
   "outputs": [],
   "source": [
    "SEQUENCE_LENGTH = 30\n",
    "\n",
    "sequences = np.zeros((len(sp500_data) - SEQUENCE_LENGTH, SEQUENCE_LENGTH, sp500_data.shape[1]))\n",
    "labels = np.zeros((len(sp500_data) - SEQUENCE_LENGTH, 1))\n",
    "\n",
    "\n",
    "for i in range(SEQUENCE_LENGTH, sp500_data.shape[0]):\n",
    "    labels[i - SEQUENCE_LENGTH] = sp500_data[i, 3] # Close price\n",
    "    sequences[i - SEQUENCE_LENGTH] = sp500_data[i-SEQUENCE_LENGTH:i, :] # Open, High, Low, Close, Volume\n",
    "    "
   ]
  },
  {
   "cell_type": "code",
   "execution_count": 36,
   "id": "b2edb98d",
   "metadata": {},
   "outputs": [
    {
     "data": {
      "text/plain": [
       "((18975, 1), (18975, 30, 5))"
      ]
     },
     "execution_count": 36,
     "metadata": {},
     "output_type": "execute_result"
    }
   ],
   "source": [
    "labels.shape, sequences.shape"
   ]
  },
  {
   "cell_type": "code",
   "execution_count": null,
   "id": "12fe0ef9",
   "metadata": {},
   "outputs": [
    {
     "data": {
      "text/plain": [
       "((18975, 1), (18975, 1))"
      ]
     },
     "execution_count": 58,
     "metadata": {},
     "output_type": "execute_result"
    }
   ],
   "source": [
    "# Normalize sequences per sequence to avoid data leakage\n",
    "close_mean = np.mean(sequences[:, :, 3], axis=1, keepdims=True)\n",
    "close_std = np.std(sequences[:, :, 3], axis=1, keepdims=True)\n",
    "\n",
    "volume_mean = np.mean(sequences[:, :, 4], axis=1, keepdims=True)\n",
    "volume_std = np.std(sequences[:, :, 4], axis=1, keepdims=True)\n",
    "\n",
    "sequences[:, :, :4] = (sequences[:, :, :4] - close_mean[:, np.newaxis, :]) / close_std[:, np.newaxis, :]\n",
    "sequences[:, :, 4] = (sequences[:, :, 4] - volume_mean) / volume_std\n",
    "labels = (labels - close_mean[:, 0]) / close_std[:, 0]  # Normalize labels"
   ]
  },
  {
   "cell_type": "code",
   "execution_count": 60,
   "id": "62950852",
   "metadata": {},
   "outputs": [
    {
     "data": {
      "text/plain": [
       "((18975, 30, 4), (18975, 1))"
      ]
     },
     "execution_count": 60,
     "metadata": {},
     "output_type": "execute_result"
    }
   ],
   "source": [
    "sequences[:, :, :4].shape, volume_mean.shape"
   ]
  },
  {
   "cell_type": "code",
   "execution_count": null,
   "id": "3ea5f143",
   "metadata": {},
   "outputs": [
    {
     "data": {
      "text/plain": [
       "array([[1.66599998e+01, 1.66599998e+01, 1.66599998e+01, 1.66599998e+01,\n",
       "        1.26000000e+06],\n",
       "       [1.68500004e+01, 1.68500004e+01, 1.68500004e+01, 1.68500004e+01,\n",
       "        1.89000000e+06],\n",
       "       [1.69300003e+01, 1.69300003e+01, 1.69300003e+01, 1.69300003e+01,\n",
       "        2.55000000e+06],\n",
       "       ...,\n",
       "       [6.29529004e+03, 6.30204004e+03, 6.24168018e+03, 6.24375977e+03,\n",
       "        5.13367000e+09],\n",
       "       [6.25450000e+03, 6.26812012e+03, 6.20158984e+03, 6.26370020e+03,\n",
       "        5.17746000e+09],\n",
       "       [6.26339990e+03, 6.29612012e+03, 6.26227002e+03, 6.29491016e+03,\n",
       "        1.70154900e+09]], shape=(19005, 5))"
      ]
     },
     "execution_count": 54,
     "metadata": {},
     "output_type": "execute_result"
    }
   ],
   "source": []
  },
  {
   "cell_type": "code",
   "execution_count": null,
   "id": "40646aba",
   "metadata": {},
   "outputs": [
    {
     "data": {
      "text/plain": [
       "array([[[1.66599998e+01, 1.66599998e+01, 1.66599998e+01, 1.66599998e+01,\n",
       "         1.26000000e+06],\n",
       "        [1.68500004e+01, 1.68500004e+01, 1.68500004e+01, 1.68500004e+01,\n",
       "         1.89000000e+06],\n",
       "        [1.69300003e+01, 1.69300003e+01, 1.69300003e+01, 1.69300003e+01,\n",
       "         2.55000000e+06],\n",
       "        ...,\n",
       "        [1.72800007e+01, 1.72800007e+01, 1.72800007e+01, 1.72800007e+01,\n",
       "         1.81000000e+06],\n",
       "        [1.72399998e+01, 1.72399998e+01, 1.72399998e+01, 1.72399998e+01,\n",
       "         1.79000000e+06],\n",
       "        [1.70599995e+01, 1.70599995e+01, 1.70599995e+01, 1.70599995e+01,\n",
       "         2.21000000e+06]],\n",
       "\n",
       "       [[1.68500004e+01, 1.68500004e+01, 1.68500004e+01, 1.68500004e+01,\n",
       "         1.89000000e+06],\n",
       "        [1.69300003e+01, 1.69300003e+01, 1.69300003e+01, 1.69300003e+01,\n",
       "         2.55000000e+06],\n",
       "        [1.69799995e+01, 1.69799995e+01, 1.69799995e+01, 1.69799995e+01,\n",
       "         2.01000000e+06],\n",
       "        ...,\n",
       "        [1.72399998e+01, 1.72399998e+01, 1.72399998e+01, 1.72399998e+01,\n",
       "         1.79000000e+06],\n",
       "        [1.70599995e+01, 1.70599995e+01, 1.70599995e+01, 1.70599995e+01,\n",
       "         2.21000000e+06],\n",
       "        [1.70599995e+01, 1.70599995e+01, 1.70599995e+01, 1.70599995e+01,\n",
       "         1.73000000e+06]],\n",
       "\n",
       "       [[1.69300003e+01, 1.69300003e+01, 1.69300003e+01, 1.69300003e+01,\n",
       "         2.55000000e+06],\n",
       "        [1.69799995e+01, 1.69799995e+01, 1.69799995e+01, 1.69799995e+01,\n",
       "         2.01000000e+06],\n",
       "        [1.70799999e+01, 1.70799999e+01, 1.70799999e+01, 1.70799999e+01,\n",
       "         2.52000000e+06],\n",
       "        ...,\n",
       "        [1.70599995e+01, 1.70599995e+01, 1.70599995e+01, 1.70599995e+01,\n",
       "         2.21000000e+06],\n",
       "        [1.70599995e+01, 1.70599995e+01, 1.70599995e+01, 1.70599995e+01,\n",
       "         1.73000000e+06],\n",
       "        [1.69899998e+01, 1.69899998e+01, 1.69899998e+01, 1.69899998e+01,\n",
       "         1.92000000e+06]],\n",
       "\n",
       "       ...,\n",
       "\n",
       "       [[5.90366992e+03, 5.92214014e+03, 5.84366016e+03, 5.91168994e+03,\n",
       "         6.37854000e+09],\n",
       "        [5.89668018e+03, 5.93739990e+03, 5.86143018e+03, 5.93593994e+03,\n",
       "         4.83224000e+09],\n",
       "        [5.93856006e+03, 5.98135010e+03, 5.92900000e+03, 5.97037012e+03,\n",
       "         5.02668000e+09],\n",
       "        ...,\n",
       "        [6.26679980e+03, 6.29022021e+03, 6.25143994e+03, 6.28045996e+03,\n",
       "         5.36735000e+09],\n",
       "        [6.25568018e+03, 6.26943994e+03, 6.23760010e+03, 6.25975000e+03,\n",
       "         4.65621000e+09],\n",
       "        [6.25514990e+03, 6.27331006e+03, 6.23922021e+03, 6.26856006e+03,\n",
       "         4.72225000e+09]],\n",
       "\n",
       "       [[5.89668018e+03, 5.93739990e+03, 5.86143018e+03, 5.93593994e+03,\n",
       "         4.83224000e+09],\n",
       "        [5.93856006e+03, 5.98135010e+03, 5.92900000e+03, 5.97037012e+03,\n",
       "         5.02668000e+09],\n",
       "        [5.97893994e+03, 5.99047998e+03, 5.96610986e+03, 5.97081006e+03,\n",
       "         4.76705000e+09],\n",
       "        ...,\n",
       "        [6.25568018e+03, 6.26943994e+03, 6.23760010e+03, 6.25975000e+03,\n",
       "         4.65621000e+09],\n",
       "        [6.25514990e+03, 6.27331006e+03, 6.23922021e+03, 6.26856006e+03,\n",
       "         4.72225000e+09],\n",
       "        [6.29529004e+03, 6.30204004e+03, 6.24168018e+03, 6.24375977e+03,\n",
       "         5.13367000e+09]],\n",
       "\n",
       "       [[5.93856006e+03, 5.98135010e+03, 5.92900000e+03, 5.97037012e+03,\n",
       "         5.02668000e+09],\n",
       "        [5.97893994e+03, 5.99047998e+03, 5.96610986e+03, 5.97081006e+03,\n",
       "         4.76705000e+09],\n",
       "        [5.98566992e+03, 5.99970020e+03, 5.92120020e+03, 5.93929980e+03,\n",
       "         5.09185000e+09],\n",
       "        ...,\n",
       "        [6.25514990e+03, 6.27331006e+03, 6.23922021e+03, 6.26856006e+03,\n",
       "         4.72225000e+09],\n",
       "        [6.29529004e+03, 6.30204004e+03, 6.24168018e+03, 6.24375977e+03,\n",
       "         5.13367000e+09],\n",
       "        [6.25450000e+03, 6.26812012e+03, 6.20158984e+03, 6.26370020e+03,\n",
       "         5.17746000e+09]]], shape=(18975, 30, 5))"
      ]
     },
     "execution_count": 57,
     "metadata": {},
     "output_type": "execute_result"
    }
   ],
   "source": []
  },
  {
   "cell_type": "code",
   "execution_count": null,
   "id": "df4553c8",
   "metadata": {},
   "outputs": [],
   "source": []
  }
 ],
 "metadata": {
  "kernelspec": {
   "display_name": "venv",
   "language": "python",
   "name": "python3"
  },
  "language_info": {
   "codemirror_mode": {
    "name": "ipython",
    "version": 3
   },
   "file_extension": ".py",
   "mimetype": "text/x-python",
   "name": "python",
   "nbconvert_exporter": "python",
   "pygments_lexer": "ipython3",
   "version": "3.10.10"
  }
 },
 "nbformat": 4,
 "nbformat_minor": 5
}
