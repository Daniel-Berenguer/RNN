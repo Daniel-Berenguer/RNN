{
 "cells": [
  {
   "cell_type": "code",
   "execution_count": null,
   "id": "627e9977",
   "metadata": {},
   "outputs": [
    {
     "name": "stdout",
     "output_type": "stream",
     "text": [
      "5101618\n"
     ]
    }
   ],
   "source": [
    "with open(\"../data/ptb.train.txt\", \"r\") as file:\n",
    "    train = file.read()\n",
    "\n",
    "with open(\"../data/ptb.test.txt\", \"r\") as file:\n",
    "    test = file.read()\n",
    "\n",
    "with open(\"../data/ptb.valid.txt\", \"r\") as file:\n",
    "    valid = file.read()\n",
    "\n",
    "data = [train, test, valid]\n",
    "print(len(train))"
   ]
  },
  {
   "cell_type": "code",
   "execution_count": 2,
   "id": "12869a9e",
   "metadata": {},
   "outputs": [],
   "source": [
    "for i in range(len(data)):\n",
    "    data[i] = data[i].replace(\"#\", \"\")\n",
    "    data[i] = data[i].replace(\"\\/\", \"|\")\n",
    "    data[i] = data[i].replace(\"<unk>\", \"@\")\n",
    "    data[i] = data[i].replace(\"\\*\", \"\")\n"
   ]
  },
  {
   "cell_type": "code",
   "execution_count": 3,
   "id": "230faa9c",
   "metadata": {},
   "outputs": [],
   "source": [
    "chars = set()\n",
    "\n",
    "for lines in data:\n",
    "    for c in lines:\n",
    "        chars.add(c)\n",
    "\n",
    "chars_to_int = dict()\n",
    "int_to_chars = []\n",
    "\n",
    "for i, c in enumerate(chars):\n",
    "    int_to_chars.append(c)\n",
    "    chars_to_int[c] = i\n"
   ]
  },
  {
   "cell_type": "code",
   "execution_count": 4,
   "id": "e6f1363a",
   "metadata": {},
   "outputs": [],
   "source": [
    "import numpy as np\n",
    "\n",
    "tokens = [[], [], []]\n",
    "\n",
    "N = len(chars)\n",
    "\n",
    "for i in range(len(data)):\n",
    "    for c in data[i]:\n",
    "        x = np.zeros(N)\n",
    "        x[chars_to_int[c]] = 1\n",
    "        tokens[i].append(x)"
   ]
  },
  {
   "cell_type": "code",
   "execution_count": 5,
   "id": "fa3141f7",
   "metadata": {},
   "outputs": [
    {
     "name": "stdout",
     "output_type": "stream",
     "text": [
      "(4921295, 46)\n"
     ]
    }
   ],
   "source": [
    "npy_tokens = [np.array(x) for x in tokens]\n",
    "\n",
    "print(npy_tokens[0].shape)"
   ]
  },
  {
   "cell_type": "code",
   "execution_count": 68,
   "id": "5523a087",
   "metadata": {},
   "outputs": [
    {
     "data": {
      "text/plain": [
       "385826"
      ]
     },
     "execution_count": 68,
     "metadata": {},
     "output_type": "execute_result"
    }
   ],
   "source": [
    "len(npy_tokens[2])"
   ]
  },
  {
   "cell_type": "code",
   "execution_count": 6,
   "id": "9b113c1d",
   "metadata": {},
   "outputs": [
    {
     "ename": "MemoryError",
     "evalue": "Unable to allocate 50.6 GiB for an array with shape (4921265, 30, 46) and data type float64",
     "output_type": "error",
     "traceback": [
      "\u001b[1;31m---------------------------------------------------------------------------\u001b[0m",
      "\u001b[1;31mMemoryError\u001b[0m                               Traceback (most recent call last)",
      "Cell \u001b[1;32mIn[6], line 6\u001b[0m\n\u001b[0;32m      3\u001b[0m processed_data \u001b[38;5;241m=\u001b[39m []\n\u001b[0;32m      5\u001b[0m \u001b[38;5;28;01mfor\u001b[39;00m j \u001b[38;5;129;01min\u001b[39;00m \u001b[38;5;28mrange\u001b[39m(\u001b[38;5;28mlen\u001b[39m(npy_tokens)):\n\u001b[1;32m----> 6\u001b[0m     sequences \u001b[38;5;241m=\u001b[39m \u001b[43mnp\u001b[49m\u001b[38;5;241;43m.\u001b[39;49m\u001b[43mzeros\u001b[49m\u001b[43m(\u001b[49m\u001b[43m(\u001b[49m\u001b[38;5;28;43mlen\u001b[39;49m\u001b[43m(\u001b[49m\u001b[43mnpy_tokens\u001b[49m\u001b[43m[\u001b[49m\u001b[43mj\u001b[49m\u001b[43m]\u001b[49m\u001b[43m)\u001b[49m\u001b[43m \u001b[49m\u001b[38;5;241;43m-\u001b[39;49m\u001b[43m \u001b[49m\u001b[43mSEQUENCE_LENGTH\u001b[49m\u001b[43m,\u001b[49m\u001b[43m \u001b[49m\u001b[43mSEQUENCE_LENGTH\u001b[49m\u001b[43m,\u001b[49m\u001b[43m \u001b[49m\u001b[43mN\u001b[49m\u001b[43m)\u001b[49m\u001b[43m)\u001b[49m\n\u001b[0;32m      7\u001b[0m     labels \u001b[38;5;241m=\u001b[39m np\u001b[38;5;241m.\u001b[39mzeros((\u001b[38;5;28mlen\u001b[39m(npy_tokens[j]) \u001b[38;5;241m-\u001b[39m SEQUENCE_LENGTH, N))\n\u001b[0;32m     10\u001b[0m     \u001b[38;5;28;01mfor\u001b[39;00m i \u001b[38;5;129;01min\u001b[39;00m \u001b[38;5;28mrange\u001b[39m(SEQUENCE_LENGTH, npy_tokens[j]\u001b[38;5;241m.\u001b[39mshape[\u001b[38;5;241m0\u001b[39m]):\n",
      "\u001b[1;31mMemoryError\u001b[0m: Unable to allocate 50.6 GiB for an array with shape (4921265, 30, 46) and data type float64"
     ]
    }
   ],
   "source": [
    "SEQUENCE_LENGTH = 30\n",
    "\n",
    "processed_data = []\n",
    "\n",
    "for j in range(len(npy_tokens)):\n",
    "    sequences = np.zeros((len(npy_tokens[j]) - SEQUENCE_LENGTH, SEQUENCE_LENGTH, N))\n",
    "    labels = np.zeros((len(npy_tokens[j]) - SEQUENCE_LENGTH, N))\n",
    "\n",
    "\n",
    "    for i in range(SEQUENCE_LENGTH, npy_tokens[j].shape[0]):\n",
    "        labels[i - SEQUENCE_LENGTH] = npy_tokens[j][i]\n",
    "        sequences[i - SEQUENCE_LENGTH] = npy_tokens[j][i-SEQUENCE_LENGTH:i]\n",
    "\n",
    "    processed_data.append((sequences, labels))"
   ]
  },
  {
   "cell_type": "code",
   "execution_count": null,
   "id": "4eb29f18",
   "metadata": {},
   "outputs": [],
   "source": []
  }
 ],
 "metadata": {
  "kernelspec": {
   "display_name": "venv",
   "language": "python",
   "name": "python3"
  },
  "language_info": {
   "codemirror_mode": {
    "name": "ipython",
    "version": 3
   },
   "file_extension": ".py",
   "mimetype": "text/x-python",
   "name": "python",
   "nbconvert_exporter": "python",
   "pygments_lexer": "ipython3",
   "version": "3.10.10"
  }
 },
 "nbformat": 4,
 "nbformat_minor": 5
}
