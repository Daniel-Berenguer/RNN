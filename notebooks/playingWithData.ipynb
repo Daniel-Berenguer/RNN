{
 "cells": [
  {
   "cell_type": "code",
   "execution_count": 2,
   "id": "078824e3",
   "metadata": {},
   "outputs": [],
   "source": [
    "import numpy as np\n",
    "\n",
    "with open(\"../data/sp500_sequences.npy\", \"rb\") as file:\n",
    "    X = np.load(file)\n",
    "\n",
    "with open(\"../data/sp500_labels.npy\", \"rb\") as file:\n",
    "    Y = np.load(file)"
   ]
  },
  {
   "cell_type": "code",
   "execution_count": 17,
   "id": "77a3a3bb",
   "metadata": {},
   "outputs": [],
   "source": [
    "a = np.where(X[:, -1, 3, np.newaxis] < Y, 1, 0)"
   ]
  },
  {
   "cell_type": "code",
   "execution_count": 18,
   "id": "02d85217",
   "metadata": {},
   "outputs": [
    {
     "data": {
      "text/plain": [
       "(18975, 1)"
      ]
     },
     "execution_count": 18,
     "metadata": {},
     "output_type": "execute_result"
    }
   ],
   "source": [
    "a.shape"
   ]
  },
  {
   "cell_type": "code",
   "execution_count": 1,
   "id": "3fd9dfeb",
   "metadata": {},
   "outputs": [],
   "source": [
    "a = dict()\n",
    "\n",
    "a[\"c\"] = \"d\""
   ]
  },
  {
   "cell_type": "code",
   "execution_count": 4,
   "id": "0efdca12",
   "metadata": {},
   "outputs": [
    {
     "name": "stdout",
     "output_type": "stream",
     "text": [
      "a,b\n",
      "b,c\n",
      "c,d\n"
     ]
    }
   ],
   "source": [
    "text = \"abcd\"\n",
    "for c1, c2 in zip(text, text[1:]):\n",
    "    print(f\"{c1},{c2}\")"
   ]
  }
 ],
 "metadata": {
  "kernelspec": {
   "display_name": "venv",
   "language": "python",
   "name": "python3"
  },
  "language_info": {
   "codemirror_mode": {
    "name": "ipython",
    "version": 3
   },
   "file_extension": ".py",
   "mimetype": "text/x-python",
   "name": "python",
   "nbconvert_exporter": "python",
   "pygments_lexer": "ipython3",
   "version": "3.10.10"
  }
 },
 "nbformat": 4,
 "nbformat_minor": 5
}
