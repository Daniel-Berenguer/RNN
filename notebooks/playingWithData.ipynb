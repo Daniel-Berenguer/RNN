{
 "cells": [
  {
   "cell_type": "code",
   "execution_count": 2,
   "id": "078824e3",
   "metadata": {},
   "outputs": [],
   "source": [
    "import numpy as np\n",
    "\n",
    "with open(\"../data/sp500_sequences.npy\", \"rb\") as file:\n",
    "    X = np.load(file)\n",
    "\n",
    "with open(\"../data/sp500_labels.npy\", \"rb\") as file:\n",
    "    Y = np.load(file)"
   ]
  },
  {
   "cell_type": "code",
   "execution_count": 17,
   "id": "77a3a3bb",
   "metadata": {},
   "outputs": [],
   "source": [
    "a = np.where(X[:, -1, 3, np.newaxis] < Y, 1, 0)"
   ]
  },
  {
   "cell_type": "code",
   "execution_count": 18,
   "id": "02d85217",
   "metadata": {},
   "outputs": [
    {
     "data": {
      "text/plain": [
       "(18975, 1)"
      ]
     },
     "execution_count": 18,
     "metadata": {},
     "output_type": "execute_result"
    }
   ],
   "source": [
    "a.shape"
   ]
  },
  {
   "cell_type": "code",
   "execution_count": 19,
   "id": "0efdca12",
   "metadata": {},
   "outputs": [
    {
     "data": {
      "text/plain": [
       "array([[0],\n",
       "       [0],\n",
       "       [1],\n",
       "       ...,\n",
       "       [0],\n",
       "       [1],\n",
       "       [1]], shape=(18975, 1))"
      ]
     },
     "execution_count": 19,
     "metadata": {},
     "output_type": "execute_result"
    }
   ],
   "source": [
    "a"
   ]
  }
 ],
 "metadata": {
  "kernelspec": {
   "display_name": "venv",
   "language": "python",
   "name": "python3"
  },
  "language_info": {
   "codemirror_mode": {
    "name": "ipython",
    "version": 3
   },
   "file_extension": ".py",
   "mimetype": "text/x-python",
   "name": "python",
   "nbconvert_exporter": "python",
   "pygments_lexer": "ipython3",
   "version": "3.10.10"
  }
 },
 "nbformat": 4,
 "nbformat_minor": 5
}
